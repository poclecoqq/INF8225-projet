{
  "cells": [
    {
      "cell_type": "markdown",
      "metadata": {
        "id": "MaRrf9VjyBCw"
      },
      "source": [
        "# Main notebook\n",
        "\n",
        "- DCGAN Adapted from [this tutorial](https://keras.io/examples/generative/dcgan_overriding_train_step/)\n",
        "- VAE adapted from this [tutorial](https://keras.io/examples/generative/vae/#train-the-vae)"
      ]
    },
    {
      "cell_type": "markdown",
      "metadata": {
        "id": "oCLBll_NyBC1"
      },
      "source": [
        "## Setup"
      ]
    },
    {
      "cell_type": "code",
      "execution_count": null,
      "metadata": {
        "id": "LCwF4rBVyBC2"
      },
      "outputs": [],
      "source": [
        "import tensorflow as tf\n",
        "from tensorflow import keras\n",
        "from tensorflow.keras import layers\n",
        "import numpy as np\n",
        "import matplotlib.pyplot as plt\n",
        "import os\n",
        "import gdown\n",
        "from zipfile import ZipFile\n",
        "from pathlib import Path\n",
        "import time"
      ]
    },
    {
      "cell_type": "code",
      "source": [
        "import sys\n",
        "def is_in_collab_env():\n",
        "    return 'google.colab' in sys.modules\n",
        "\n",
        "if is_in_collab_env():\n",
        "    from google.colab import drive\n",
        "    drive.mount('/content/drive')\n",
        "    ROOT = Path(\"/content/drive/MyDrive/INF8225/notebooks\")\n",
        "else:\n",
        "    ROOT = Path('..').resolve()"
      ],
      "metadata": {
        "id": "hNPxBlC227lK",
        "colab": {
          "base_uri": "https://localhost:8080/"
        },
        "outputId": "3e8ec591-34f4-48f7-acc3-baebe6896c84"
      },
      "execution_count": null,
      "outputs": [
        {
          "output_type": "stream",
          "name": "stdout",
          "text": [
            "Drive already mounted at /content/drive; to attempt to forcibly remount, call drive.mount(\"/content/drive\", force_remount=True).\n"
          ]
        }
      ]
    },
    {
      "cell_type": "code",
      "source": [
        "ROOT_DATA_PATH = ROOT/\"data\"\n",
        "ROOT_MODEL_PATH = ROOT/\"models\"\n",
        "\n",
        "ROOT_DATA_PATH.mkdir(parents=True, exist_ok=True)\n",
        "ROOT_MODEL_PATH.mkdir(parents=True, exist_ok=True)"
      ],
      "metadata": {
        "id": "cUnqb5rI2-rE"
      },
      "execution_count": null,
      "outputs": []
    },
    {
      "cell_type": "markdown",
      "metadata": {
        "id": "sPUbJUhByBC4"
      },
      "source": [
        "## Prepare CelebA data\n",
        "\n",
        "We'll use face images from the CelebA dataset, resized to 64x64."
      ]
    },
    {
      "cell_type": "code",
      "execution_count": null,
      "metadata": {
        "id": "T9VZevZayBC4"
      },
      "outputs": [],
      "source": [
        "def get_celebA_dataset():\n",
        "    ## Download dataset\n",
        "    os.makedirs(\"celeba_gan\", exist_ok=True)\n",
        "    url = \"https://drive.google.com/uc?id=1O7m1010EJjLE5QxLZiM9Fpjs7Oj6e684\"\n",
        "    output = \"celeba_gan/data.zip\"\n",
        "    gdown.download(url, output, quiet=True)\n",
        "    with ZipFile(\"celeba_gan/data.zip\", \"r\") as zipobj:\n",
        "        zipobj.extractall(\"celeba_gan\")\n",
        "\n",
        "    ## Build keras dataset object\n",
        "    dataset = keras.preprocessing.image_dataset_from_directory(\n",
        "        \"celeba_gan\", label_mode=None, image_size=(64, 64), batch_size=32\n",
        "    )\n",
        "    ## Preprocessing\n",
        "    dataset = dataset.map(lambda x: x / 255.0)\n",
        "    return  dataset"
      ]
    },
    {
      "cell_type": "code",
      "source": [
        "# https://towardsdatascience.com/how-to-split-a-tensorflow-dataset-into-train-validation-and-test-sets-526c8dd29438\n",
        "def get_dataset_partitions_tf(ds, train_split=0.8, val_split=0.1, test_split=0.1):\n",
        "    assert (train_split + test_split + val_split) == 1\n",
        "\n",
        "    ds_size = tf.data.experimental.cardinality(ds).numpy()\n",
        "    train_size = int(train_split * ds_size)\n",
        "    val_size = int(val_split * ds_size)\n",
        "    \n",
        "    # TODO: deterministic splits\n",
        "    train_ds = ds.take(train_size)    \n",
        "    val_ds = ds.skip(train_size).take(val_size)\n",
        "    test_ds = ds.skip(train_size).skip(val_size)\n",
        "    \n",
        "    return train_ds, val_ds, test_ds"
      ],
      "metadata": {
        "id": "dQdLVN4GNB6D"
      },
      "execution_count": null,
      "outputs": []
    },
    {
      "cell_type": "code",
      "execution_count": null,
      "metadata": {
        "id": "-LIsh-79yBC6",
        "colab": {
          "base_uri": "https://localhost:8080/"
        },
        "outputId": "f8341114-88a4-4a66-f421-32ac6cee6364"
      },
      "outputs": [
        {
          "output_type": "stream",
          "name": "stdout",
          "text": [
            "Found 202599 files belonging to 1 classes.\n"
          ]
        }
      ],
      "source": [
        "dataset = get_celebA_dataset()\n",
        "## TODO: adapt code with train test\n",
        "train, valid, test = get_dataset_partitions_tf(dataset)"
      ]
    },
    {
      "cell_type": "markdown",
      "metadata": {
        "id": "i0zHMM3jyBC7"
      },
      "source": [
        "Let's display a sample image:"
      ]
    },
    {
      "cell_type": "code",
      "execution_count": null,
      "metadata": {
        "id": "9b1RqfjdyBC8",
        "colab": {
          "base_uri": "https://localhost:8080/",
          "height": 248
        },
        "outputId": "e658acaa-19b0-4900-c5ff-095ab10a48ba"
      },
      "outputs": [
        {
          "output_type": "display_data",
          "data": {
            "text/plain": [
              "<Figure size 432x288 with 1 Axes>"
            ],
            "image/png": "[encoded data removed]"
          },
          "metadata": {
            "needs_background": "light"
          }
        }
      ],
      "source": [
        "for x in dataset:\n",
        "    plt.axis(\"off\")\n",
        "    plt.imshow((x.numpy() * 255).astype(\"int32\")[0])\n",
        "    break\n"
      ]
    },
    {
      "cell_type": "markdown",
      "source": [
        "## Architectures"
      ],
      "metadata": {
        "id": "pOeojm615FW9"
      }
    },
    {
      "cell_type": "markdown",
      "source": [
        "### DCGAN"
      ],
      "metadata": {
        "id": "o1fAbtpW5PID"
      }
    },
    {
      "cell_type": "code",
      "source": [
        "class GAN(keras.Model):\n",
        "    def __init__(self, latent_dim):\n",
        "        super(GAN, self).__init__()\n",
        "        self.latent_dim = latent_dim\n",
        "        self.discriminator = self.__get_discriminator()\n",
        "        self.generator = self.__get_generator()\n",
        "\n",
        "    def compile(self, d_optimizer, g_optimizer, loss_fn):\n",
        "        super(GAN, self).compile()\n",
        "        self.d_optimizer = d_optimizer\n",
        "        self.g_optimizer = g_optimizer\n",
        "        self.loss_fn = loss_fn\n",
        "        self.d_loss_metric = keras.metrics.Mean(name=\"d_loss\")\n",
        "        self.g_loss_metric = keras.metrics.Mean(name=\"g_loss\")\n",
        "\n",
        "    def get_generator(self):\n",
        "        return self.generator\n",
        "\n",
        "    def __get_discriminator(self):\n",
        "        return keras.Sequential(\n",
        "                [\n",
        "                    keras.Input(shape=(64, 64, 3)),\n",
        "                    layers.Conv2D(64, kernel_size=4, strides=2, padding=\"same\"),\n",
        "                    layers.LeakyReLU(alpha=0.2),\n",
        "                    layers.Conv2D(128, kernel_size=4, strides=2, padding=\"same\"),\n",
        "                    layers.LeakyReLU(alpha=0.2),\n",
        "                    layers.Conv2D(128, kernel_size=4, strides=2, padding=\"same\"),\n",
        "                    layers.LeakyReLU(alpha=0.2),\n",
        "                    layers.Flatten(),\n",
        "                    layers.Dropout(0.2),\n",
        "                    layers.Dense(1, activation=\"sigmoid\"),\n",
        "                ],\n",
        "                name=\"discriminator\",\n",
        "            )\n",
        "    def __get_generator(self):\n",
        "        return keras.Sequential(\n",
        "            [\n",
        "                keras.Input(shape=(self.latent_dim,)),\n",
        "                layers.Dense(8 * 8 * 128),\n",
        "                layers.Reshape((8, 8, 128)),\n",
        "                layers.Conv2DTranspose(128, kernel_size=4, strides=2, padding=\"same\"),\n",
        "                layers.LeakyReLU(alpha=0.2),\n",
        "                layers.Conv2DTranspose(256, kernel_size=4, strides=2, padding=\"same\"),\n",
        "                layers.LeakyReLU(alpha=0.2),\n",
        "                layers.Conv2DTranspose(512, kernel_size=4, strides=2, padding=\"same\"),\n",
        "                layers.LeakyReLU(alpha=0.2),\n",
        "                layers.Conv2D(3, kernel_size=5, padding=\"same\", activation=\"sigmoid\"),\n",
        "            ],\n",
        "            name=\"generator\",\n",
        "        )\n",
        "    \n",
        "    def generate_samples(self, num_img):\n",
        "        \"\"\"\n",
        "        Generates num_img images.\n",
        "            Returns:\n",
        "                imgs: an array of PIL images\n",
        "        \"\"\"\n",
        "        random_latent_vectors = tf.random.normal(shape=(num_img, self.latent_dim))\n",
        "        generated_images = self.generator(random_latent_vectors)\n",
        "        generated_images *= 255\n",
        "        generated_images.numpy()\n",
        "        imgs = [ keras.preprocessing.image.array_to_img(generated_image) for generated_image in generated_images]\n",
        "        return imgs\n",
        "\n",
        "    @property\n",
        "    def metrics(self):\n",
        "        return [self.d_loss_metric, self.g_loss_metric]\n",
        "\n",
        "    def train_step(self, real_images):\n",
        "        # Sample random points in the latent space\n",
        "        batch_size = tf.shape(real_images)[0]\n",
        "        random_latent_vectors = tf.random.normal(shape=(batch_size, self.latent_dim))\n",
        "\n",
        "        # Decode them to fake images\n",
        "        generated_images = self.generator(random_latent_vectors)\n",
        "\n",
        "        # Combine them with real images\n",
        "        combined_images = tf.concat([generated_images, real_images], axis=0)\n",
        "\n",
        "        # Assemble labels discriminating real from fake images\n",
        "        labels = tf.concat(\n",
        "            [tf.ones((batch_size, 1)), tf.zeros((batch_size, 1))], axis=0\n",
        "        )\n",
        "        # Add random noise to the labels - important trick!\n",
        "        labels += 0.05 * tf.random.uniform(tf.shape(labels))\n",
        "\n",
        "        # Train the discriminator\n",
        "        with tf.GradientTape() as tape:\n",
        "            predictions = self.discriminator(combined_images)\n",
        "            d_loss = self.loss_fn(labels, predictions)\n",
        "        grads = tape.gradient(d_loss, self.discriminator.trainable_weights)\n",
        "        self.d_optimizer.apply_gradients(\n",
        "            zip(grads, self.discriminator.trainable_weights)\n",
        "        )\n",
        "\n",
        "        # Sample random points in the latent space\n",
        "        random_latent_vectors = tf.random.normal(shape=(batch_size, self.latent_dim))\n",
        "\n",
        "        # Assemble labels that say \"all real images\"\n",
        "        misleading_labels = tf.zeros((batch_size, 1))\n",
        "\n",
        "        # Train the generator (note that we should *not* update the weights\n",
        "        # of the discriminator)!\n",
        "        with tf.GradientTape() as tape:\n",
        "            predictions = self.discriminator(self.generator(random_latent_vectors))\n",
        "            g_loss = self.loss_fn(misleading_labels, predictions)\n",
        "        grads = tape.gradient(g_loss, self.generator.trainable_weights)\n",
        "        self.g_optimizer.apply_gradients(zip(grads, self.generator.trainable_weights))\n",
        "\n",
        "        # Update metrics\n",
        "        self.d_loss_metric.update_state(d_loss)\n",
        "        self.g_loss_metric.update_state(g_loss)\n",
        "        return {\n",
        "            \"d_loss\": self.d_loss_metric.result(),\n",
        "            \"g_loss\": self.g_loss_metric.result(),\n",
        "        }\n"
      ],
      "metadata": {
        "id": "u2mfR4Hk5cWi"
      },
      "execution_count": null,
      "outputs": []
    },
    {
      "cell_type": "markdown",
      "source": [
        "### VAE\n"
      ],
      "metadata": {
        "id": "JYsq8qxt7y0h"
      }
    },
    {
      "cell_type": "code",
      "source": [
        "class Sampling(layers.Layer):\n",
        "    \"\"\"Uses (z_mean, z_log_var) to sample z, the vector encoding a digit.\"\"\"\n",
        "\n",
        "    def call(self, inputs):\n",
        "        z_mean, z_log_var = inputs\n",
        "        batch = tf.shape(z_mean)[0]\n",
        "        dim = tf.shape(z_mean)[1]\n",
        "        epsilon = tf.keras.backend.random_normal(shape=(batch, dim))\n",
        "        return z_mean + tf.exp(0.5 * z_log_var) * epsilon"
      ],
      "metadata": {
        "id": "u2Hp2RCkK6cq"
      },
      "execution_count": null,
      "outputs": []
    },
    {
      "cell_type": "code",
      "source": [
        "class VAE(keras.Model):\n",
        "    def __init__(self, latent_dim, **kwargs):\n",
        "        super(VAE, self).__init__(**kwargs)\n",
        "        self.latent_dim = latent_dim\n",
        "        self.encoder = self.__get_encoder()\n",
        "        self.decoder = self.__get_decoder()\n",
        "        self.total_loss_tracker = keras.metrics.Mean(name=\"total_loss\")\n",
        "        self.reconstruction_loss_tracker = keras.metrics.Mean(\n",
        "            name=\"reconstruction_loss\"\n",
        "        )\n",
        "        self.kl_loss_tracker = keras.metrics.Mean(name=\"kl_loss\")\n",
        "\n",
        "    @property\n",
        "    def metrics(self):\n",
        "        return [\n",
        "            self.total_loss_tracker,\n",
        "            self.reconstruction_loss_tracker,\n",
        "            self.kl_loss_tracker,\n",
        "        ]\n",
        "    \n",
        "    def get_generator(self):\n",
        "        return self.decoder\n",
        "\n",
        "    def __get_encoder(self):\n",
        "        encoder_inputs = keras.Input(shape=(64, 64, 3)) # avant 28, 28, 1\n",
        "        x = layers.Conv2D(32, 3, activation=\"relu\", strides=2, padding=\"same\")(encoder_inputs)\n",
        "        x = layers.Conv2D(64, 3, activation=\"relu\", strides=2, padding=\"same\")(x)\n",
        "        x = layers.Conv2D(64, 3, activation=\"relu\", strides=2, padding=\"same\")(x)\n",
        "        x = layers.Conv2D(64, 3, activation=\"relu\", strides=2, padding=\"same\")(x)\n",
        "        x = layers.Flatten()(x)\n",
        "        x = layers.Dense(self.latent_dim, activation=\"relu\")(x)\n",
        "        z_mean = layers.Dense(self.latent_dim, name=\"z_mean\")(x)\n",
        "        z_log_var = layers.Dense(self.latent_dim, name=\"z_log_var\")(x)\n",
        "        z = Sampling()([z_mean, z_log_var])\n",
        "        return keras.Model(encoder_inputs, [z_mean, z_log_var, z], name=\"encoder\")\n",
        "\n",
        "    def __get_decoder(self):\n",
        "        latent_inputs = keras.Input(shape=(self.latent_dim,))\n",
        "        x = layers.Dense(16 * 16 * 64, activation=\"relu\")(latent_inputs) # avant: 7 * 7 * 64\n",
        "        x = layers.Reshape((16, 16, 64))(x) # avant: 7,7,64\n",
        "        x = layers.Conv2DTranspose(64, 3, activation=\"relu\", strides=2, padding=\"same\")(x)\n",
        "        x = layers.BatchNormalization()(x)\n",
        "        x = layers.Dropout(rate=0.25)(x)\n",
        "        x = layers.Conv2DTranspose(32, 3, activation=\"relu\", strides=2, padding=\"same\")(x)\n",
        "        x = layers.BatchNormalization()(x)\n",
        "        x = layers.Dropout(rate=0.25)(x)\n",
        "        decoder_outputs = layers.Conv2DTranspose(3, 3, activation=\"sigmoid\", padding=\"same\")(x)\n",
        "        return keras.Model(latent_inputs, decoder_outputs, name=\"decoder\")\n",
        "\n",
        "    def train_step(self, data):\n",
        "        with tf.GradientTape() as tape:\n",
        "            z_mean, z_log_var, z = self.encoder(data)\n",
        "            reconstruction = self.decoder(z)\n",
        "            reconstruction_loss = tf.reduce_mean(\n",
        "                tf.reduce_sum(\n",
        "                    keras.losses.binary_crossentropy(data, reconstruction), axis=(1, 2)\n",
        "                )\n",
        "            )\n",
        "            kl_loss = -0.5 * (1 + z_log_var - tf.square(z_mean) - tf.exp(z_log_var))\n",
        "            kl_loss = tf.reduce_mean(tf.reduce_sum(kl_loss, axis=1))\n",
        "            total_loss = reconstruction_loss + kl_loss\n",
        "        grads = tape.gradient(total_loss, self.trainable_weights)\n",
        "        self.optimizer.apply_gradients(zip(grads, self.trainable_weights))\n",
        "        self.total_loss_tracker.update_state(total_loss)\n",
        "        self.reconstruction_loss_tracker.update_state(reconstruction_loss)\n",
        "        self.kl_loss_tracker.update_state(kl_loss)\n",
        "        return {\n",
        "            \"loss\": self.total_loss_tracker.result(),\n",
        "            \"reconstruction_loss\": self.reconstruction_loss_tracker.result(),\n",
        "            \"kl_loss\": self.kl_loss_tracker.result(),\n",
        "        }\n",
        "    \n",
        "    def predict(self, input):\n",
        "        z_mean, z_log, z = self.encoder.predict(input)\n",
        "        return self.decoder.predict(z)"
      ],
      "metadata": {
        "id": "BeisHTws72i-"
      },
      "execution_count": null,
      "outputs": []
    },
    {
      "cell_type": "markdown",
      "metadata": {
        "id": "AQeOQ2YkyBDC"
      },
      "source": [
        "## Training code"
      ]
    },
    {
      "cell_type": "markdown",
      "source": [
        "### Callbacks"
      ],
      "metadata": {
        "id": "d1t400Il7-e3"
      }
    },
    {
      "cell_type": "code",
      "execution_count": null,
      "metadata": {
        "id": "ejwQuN9HyBDB"
      },
      "outputs": [],
      "source": [
        "class SaveImagesCallback(keras.callbacks.Callback):\n",
        "    def __init__(self, dir_path, num_img=3, latent_dim=128, epoch_offset=0):\n",
        "        self.num_img = num_img\n",
        "        self.latent_dim = latent_dim\n",
        "        self.epoch_offset = epoch_offset\n",
        "        self.dir_path = dir_path\n",
        "\n",
        "    def on_epoch_end(self, epoch, logs=None):\n",
        "        epoch_adjusted = self.epoch_offset+epoch\n",
        "        if (epoch_adjusted % 10) == 0:\n",
        "            random_latent_vectors = tf.random.normal(shape=(self.num_img, self.latent_dim))\n",
        "            generator = self.model.get_generator()\n",
        "            generated_images = generator(random_latent_vectors)\n",
        "            generated_images *= 255\n",
        "            generated_images.numpy()\n",
        "            \n",
        "            dir_path = self.dir_path/f'e:{epoch_adjusted}'\n",
        "            dir_path.mkdir(parents=True, exist_ok=True)\n",
        "            crnt_timestamp = str(time.time()).split('.')[0]\n",
        "            for i in range(self.num_img):\n",
        "                img = keras.preprocessing.image.array_to_img(generated_images[i])\n",
        "                img.save(dir_path/f'generated_img_e:{epoch_adjusted}_{i}_t:{crnt_timestamp}.png')\n"
      ]
    },
    {
      "cell_type": "markdown",
      "source": [
        "### Training"
      ],
      "metadata": {
        "id": "zFJdp0zi8Ah9"
      }
    },
    {
      "cell_type": "code",
      "source": [
        "from enum import Enum\n",
        "class Dataset_names(str, Enum):\n",
        "    CelebA = \"CelebA\"\n",
        "    Anime_faces = 'Anime_faces'\n",
        "\n",
        "class Model_names(str, Enum):\n",
        "    GAN = \"GAN\"\n",
        "    VAE = 'VAE'\n",
        "\n",
        "def get_model_dir(dataset_name: Dataset_names, model_name: Model_names):\n",
        "    path = ROOT_MODEL_PATH/f'{model_name}-{dataset_name}'\n",
        "    path.mkdir(parents=True, exist_ok=True)\n",
        "    return path\n",
        "\n",
        "def get_data_dir(dataset_name: Dataset_names, model_name: Model_names):\n",
        "    path = ROOT_DATA_PATH/f'{model_name}-{dataset_name}'\n",
        "    path.mkdir(parents=True, exist_ok=True)\n",
        "    return path\n"
      ],
      "metadata": {
        "id": "iSsKnXFMXWXp"
      },
      "execution_count": null,
      "outputs": []
    },
    {
      "cell_type": "code",
      "source": [
        "dataset_name=Dataset_names.CelebA\n",
        "model_name=Model_names.VAE\n",
        "MODEL_PATH = get_model_dir(dataset_name, model_name)\n",
        "DATA_PATH = get_data_dir(dataset_name, model_name)\n",
        "\n",
        "## Model selection\n",
        "use_gan = False\n",
        "\n",
        "## Model configuration\n",
        "load_weights = False\n",
        "weights_path = None\n",
        "latent_dim = 128\n",
        "\n",
        "## Training specifics\n",
        "epochs = 30 # In practice, use ~100 epochs"
      ],
      "metadata": {
        "id": "tuJ0XRezBTqA"
      },
      "execution_count": null,
      "outputs": []
    },
    {
      "cell_type": "code",
      "source": [
        "def get_GAN(latent_dim, load_weights= False, weights_path=None):\n",
        "    \"\"\"\n",
        "    Parameters:\n",
        "        latent_dim: The size of the latent dim\n",
        "        load_weights: When set to true, loads weights\n",
        "        weights_path: The path to the weights\n",
        "    Returns:\n",
        "        gan\n",
        "    \"\"\"\n",
        "    gan = GAN(latent_dim)\n",
        "    gan.compile(\n",
        "        d_optimizer=keras.optimizers.Adam(learning_rate=0.0001),\n",
        "        g_optimizer=keras.optimizers.Adam(learning_rate=0.0001),\n",
        "        loss_fn=keras.losses.BinaryCrossentropy(),\n",
        "    )\n",
        "    if load_weights:\n",
        "        gan.load_weights(weights_path)\n",
        "    return gan\n",
        "\n",
        "def get_VAE(latent_dim, load_weights= False, weights_path=None):\n",
        "    \"\"\"\n",
        "    Parameters:\n",
        "        latent_dim: The size of the latent dim\n",
        "        load_weights: When set to true, loads weights\n",
        "        weights_path: The path to the weights\n",
        "    Returns:\n",
        "        vae\n",
        "    \"\"\"\n",
        "    R_LOSS_FACTOR = 10000\n",
        "    vae = VAE(latent_dim)\n",
        "    vae.compile(keras.optimizers.Adam(learning_rate=0.0005), R_LOSS_FACTOR, metrics=[\"val_loss\"])\n",
        "    if load_weights:\n",
        "        vae.load_weights(weights_path)\n",
        "    return vae"
      ],
      "metadata": {
        "id": "sM46ZeXR-FTp"
      },
      "execution_count": null,
      "outputs": []
    },
    {
      "cell_type": "code",
      "source": [
        "model = None\n",
        "if model_name == Model_names.GAN:\n",
        "    model = get_GAN(latent_dim, load_weights, weights_path)\n",
        "else:\n",
        "    model = get_VAE(latent_dim, load_weights, weights_path)"
      ],
      "metadata": {
        "id": "xl0sehedAMtT"
      },
      "execution_count": null,
      "outputs": []
    },
    {
      "cell_type": "code",
      "source": [
        "save_images_callback = SaveImagesCallback(dir_path=DATA_PATH, num_img=10, latent_dim=latent_dim)\n",
        "mcp_save = tf.keras.callbacks.ModelCheckpoint(MODEL_PATH/'e:{epoch:02d}',period=10, save_weights_only=True)\n",
        "\n",
        "model.fit(\n",
        "    dataset, epochs=epochs, callbacks=[save_images_callback, mcp_save]\n",
        ")"
      ],
      "metadata": {
        "id": "z4Op5ie79OU4"
      },
      "execution_count": null,
      "outputs": []
    },
    {
      "cell_type": "markdown",
      "metadata": {
        "id": "z67zpcrgyBDC"
      },
      "source": [
        "Some of the last generated images around epoch 30\n",
        "(results keep improving after that):\n",
        "\n",
        "![results](https://i.imgur.com/h5MtQZ7l.png)"
      ]
    },
    {
      "cell_type": "markdown",
      "source": [
        "## Evaluation\n"
      ],
      "metadata": {
        "id": "32_LvJVcZqcf"
      }
    },
    {
      "cell_type": "code",
      "source": [
        "## Model selection\n",
        "use_gan = False\n",
        "\n",
        "load_weights=True\n",
        "weights_path=MODEL_PATH/'e:01'"
      ],
      "metadata": {
        "id": "pWGmyfGSCIdp"
      },
      "execution_count": null,
      "outputs": []
    },
    {
      "cell_type": "code",
      "source": [
        "model = None\n",
        "if model_name == Model_names.GAN:\n",
        "    model = get_GAN(latent_dim, load_weights, weights_path)\n",
        "else:\n",
        "    model = get_VAE(latent_dim, load_weights, weights_path)"
      ],
      "metadata": {
        "id": "pkDBjg_PZ--v"
      },
      "execution_count": null,
      "outputs": []
    },
    {
      "cell_type": "markdown",
      "source": [
        "Generating images"
      ],
      "metadata": {
        "id": "65FPnXLZfSYW"
      }
    },
    {
      "cell_type": "code",
      "source": [
        "# n_samples = 100\n",
        "\n",
        "# # Generate samples\n",
        "# imgs = gan.generate_samples(n_samples)\n",
        "\n",
        "# # Initialize directory for pictures\n",
        "# dir_name = f'DCGAN_CelebA-generated'\n",
        "# img_path = ROOT_DATA_PATH/dir_name\n",
        "# img_path.mkdir(parents=True, exist_ok=True)\n",
        "\n",
        "# # Save images\n",
        "# for i, img in enumerate(imgs):\n",
        "#     img.save(img_path/f'generated_img_{i}.png')"
      ],
      "metadata": {
        "id": "lRcxXYZtbzxp"
      },
      "execution_count": null,
      "outputs": []
    },
    {
      "cell_type": "markdown",
      "source": [
        "Saving random images **TODO fix with test**"
      ],
      "metadata": {
        "id": "biMA_U42f7ox"
      }
    },
    {
      "cell_type": "code",
      "source": [
        "dataset = keras.preprocessing.image_dataset_from_directory(\n",
        "    \"celeba_gan\", label_mode=None, image_size=(64, 64), batch_size=32\n",
        ")\n",
        "# https://towardsdatascience.com/how-to-split-a-tensorflow-dataset-into-train-validation-and-test-sets-526c8dd29438\n",
        "def get_dataset_partitions_tf(ds, ds_size, train_split=0.8, val_split=0.1, test_split=0.1):\n",
        "    assert (train_split + test_split + val_split) == 1\n",
        "    \n",
        "    train_size = int(train_split * ds_size)\n",
        "    val_size = int(val_split * ds_size)\n",
        "    \n",
        "    train_ds = ds.take(train_size)    \n",
        "    val_ds = ds.skip(train_size).take(val_size)\n",
        "    test_ds = ds.skip(train_size).skip(val_size)\n",
        "    \n",
        "    return train_ds, val_ds, test_ds\n",
        "\n",
        "size = tf.data.experimental.cardinality(dataset).numpy()\n",
        "train, _, test = get_dataset_partitions_tf(dataset, size)"
      ],
      "metadata": {
        "colab": {
          "base_uri": "https://localhost:8080/"
        },
        "id": "UjBc-WQ1f7y3",
        "outputId": "9b762abf-5f9b-42d0-c797-9ffcb0fedc89"
      },
      "execution_count": null,
      "outputs": [
        {
          "output_type": "stream",
          "name": "stdout",
          "text": [
            "Found 202599 files belonging to 1 classes.\n"
          ]
        }
      ]
    },
    {
      "cell_type": "code",
      "source": [
        "dir_name = f'DCGAN_CelebA-real'\n",
        "\n",
        "real_img_path = ROOT_DATA_PATH/'DCGAN_CelebA-real'\n",
        "real_img_path.mkdir(parents=True, exist_ok=True)\n",
        "\n",
        "gen_img_path = ROOT_DATA_PATH/'DCGAN_CelebA-gen'\n",
        "gen_img_path.mkdir(parents=True, exist_ok=True)\n",
        "\n",
        "i = 0\n",
        "for image_batch in test.as_numpy_iterator():\n",
        "    for j in range(image_batch.shape[0]): # batch of 32\n",
        "        # Generating img + saving it\n",
        "        img_gen = gan.generate_samples(1)[0]\n",
        "        img_gen.save(gen_img_path/f'{i}.png')\n",
        "\n",
        "        # Saving real image\n",
        "        img_real = image_batch[j,...]\n",
        "        plt.imsave(real_img_path/f'{i}.png', img_real / 255)\n",
        "        i += 1"
      ],
      "metadata": {
        "colab": {
          "base_uri": "https://localhost:8080/",
          "height": 398
        },
        "id": "7HfX2OlfhHGu",
        "outputId": "3d4dd567-c44d-42c9-a104-72d2f31cc3fe"
      },
      "execution_count": null,
      "outputs": [
        {
          "output_type": "error",
          "ename": "KeyboardInterrupt",
          "evalue": "ignored",
          "traceback": [
            "\u001b[0;31m---------------------------------------------------------------------------\u001b[0m",
            "\u001b[0;31mKeyboardInterrupt\u001b[0m                         Traceback (most recent call last)",
            "\u001b[0;32m/usr/local/lib/python3.7/dist-packages/IPython/core/interactiveshell.py\u001b[0m in \u001b[0;36mrun_code\u001b[0;34m(self, code_obj, result)\u001b[0m\n\u001b[1;32m   2881\u001b[0m                     \u001b[0;32mreturn\u001b[0m\u001b[0;34m\u001b[0m\u001b[0;34m\u001b[0m\u001b[0m\n\u001b[0;32m-> 2882\u001b[0;31m                 \u001b[0;32mfor\u001b[0m \u001b[0mcell\u001b[0m \u001b[0;32min\u001b[0m \u001b[0mnb\u001b[0m\u001b[0;34m.\u001b[0m\u001b[0mcells\u001b[0m\u001b[0;34m:\u001b[0m\u001b[0;34m\u001b[0m\u001b[0;34m\u001b[0m\u001b[0m\n\u001b[0m\u001b[1;32m   2883\u001b[0m                     \u001b[0;32mif\u001b[0m \u001b[0mcell\u001b[0m\u001b[0;34m.\u001b[0m\u001b[0mcell_type\u001b[0m \u001b[0;34m==\u001b[0m \u001b[0;34m'code'\u001b[0m\u001b[0;34m:\u001b[0m\u001b[0;34m\u001b[0m\u001b[0;34m\u001b[0m\u001b[0m\n",
            "\u001b[0;32m<ipython-input-42-d319110a1beb>\u001b[0m in \u001b[0;36m<module>\u001b[0;34m()\u001b[0m\n\u001b[1;32m     12\u001b[0m         \u001b[0;31m# Generating img + saving it\u001b[0m\u001b[0;34m\u001b[0m\u001b[0;34m\u001b[0m\u001b[0;34m\u001b[0m\u001b[0m\n\u001b[0;32m---> 13\u001b[0;31m         \u001b[0mimg_gen\u001b[0m \u001b[0;34m=\u001b[0m \u001b[0mgan\u001b[0m\u001b[0;34m.\u001b[0m\u001b[0mgenerate_samples\u001b[0m\u001b[0;34m(\u001b[0m\u001b[0mn_samples\u001b[0m\u001b[0;34m)\u001b[0m\u001b[0;34m[\u001b[0m\u001b[0;36m0\u001b[0m\u001b[0;34m]\u001b[0m\u001b[0;34m\u001b[0m\u001b[0;34m\u001b[0m\u001b[0m\n\u001b[0m\u001b[1;32m     14\u001b[0m         \u001b[0mimg_gen\u001b[0m\u001b[0;34m.\u001b[0m\u001b[0msave\u001b[0m\u001b[0;34m(\u001b[0m\u001b[0mgen_img_path\u001b[0m\u001b[0;34m/\u001b[0m\u001b[0;34mf'{i}.png'\u001b[0m\u001b[0;34m)\u001b[0m\u001b[0;34m\u001b[0m\u001b[0;34m\u001b[0m\u001b[0m\n",
            "\u001b[0;32m<ipython-input-14-9d5dd8728877>\u001b[0m in \u001b[0;36mgenerate_samples\u001b[0;34m(self, num_img)\u001b[0m\n\u001b[1;32m     25\u001b[0m         \u001b[0mgenerated_images\u001b[0m \u001b[0;34m*=\u001b[0m \u001b[0;36m255\u001b[0m\u001b[0;34m\u001b[0m\u001b[0;34m\u001b[0m\u001b[0m\n\u001b[0;32m---> 26\u001b[0;31m         \u001b[0mgenerated_images\u001b[0m\u001b[0;34m.\u001b[0m\u001b[0mnumpy\u001b[0m\u001b[0;34m(\u001b[0m\u001b[0;34m)\u001b[0m\u001b[0;34m\u001b[0m\u001b[0;34m\u001b[0m\u001b[0m\n\u001b[0m\u001b[1;32m     27\u001b[0m         \u001b[0mimgs\u001b[0m \u001b[0;34m=\u001b[0m \u001b[0;34m[\u001b[0m \u001b[0mkeras\u001b[0m\u001b[0;34m.\u001b[0m\u001b[0mpreprocessing\u001b[0m\u001b[0;34m.\u001b[0m\u001b[0mimage\u001b[0m\u001b[0;34m.\u001b[0m\u001b[0marray_to_img\u001b[0m\u001b[0;34m(\u001b[0m\u001b[0mgenerated_image\u001b[0m\u001b[0;34m)\u001b[0m \u001b[0;32mfor\u001b[0m \u001b[0mgenerated_image\u001b[0m \u001b[0;32min\u001b[0m \u001b[0mgenerated_images\u001b[0m\u001b[0;34m]\u001b[0m\u001b[0;34m\u001b[0m\u001b[0;34m\u001b[0m\u001b[0m\n",
            "\u001b[0;32m/usr/local/lib/python3.7/dist-packages/tensorflow/python/framework/ops.py\u001b[0m in \u001b[0;36mnumpy\u001b[0;34m(self)\u001b[0m\n\u001b[1;32m   1222\u001b[0m     \u001b[0;31m# TODO(slebedev): Consider avoiding a copy for non-CPU or remote tensors.\u001b[0m\u001b[0;34m\u001b[0m\u001b[0;34m\u001b[0m\u001b[0;34m\u001b[0m\u001b[0m\n\u001b[0;32m-> 1223\u001b[0;31m     \u001b[0mmaybe_arr\u001b[0m \u001b[0;34m=\u001b[0m \u001b[0mself\u001b[0m\u001b[0;34m.\u001b[0m\u001b[0m_numpy\u001b[0m\u001b[0;34m(\u001b[0m\u001b[0;34m)\u001b[0m  \u001b[0;31m# pylint: disable=protected-access\u001b[0m\u001b[0;34m\u001b[0m\u001b[0;34m\u001b[0m\u001b[0m\n\u001b[0m\u001b[1;32m   1224\u001b[0m     \u001b[0;32mreturn\u001b[0m \u001b[0mmaybe_arr\u001b[0m\u001b[0;34m.\u001b[0m\u001b[0mcopy\u001b[0m\u001b[0;34m(\u001b[0m\u001b[0;34m)\u001b[0m \u001b[0;32mif\u001b[0m \u001b[0misinstance\u001b[0m\u001b[0;34m(\u001b[0m\u001b[0mmaybe_arr\u001b[0m\u001b[0;34m,\u001b[0m \u001b[0mnp\u001b[0m\u001b[0;34m.\u001b[0m\u001b[0mndarray\u001b[0m\u001b[0;34m)\u001b[0m \u001b[0;32melse\u001b[0m \u001b[0mmaybe_arr\u001b[0m\u001b[0;34m\u001b[0m\u001b[0;34m\u001b[0m\u001b[0m\n",
            "\u001b[0;32m/usr/local/lib/python3.7/dist-packages/tensorflow/python/framework/ops.py\u001b[0m in \u001b[0;36m_numpy\u001b[0;34m(self)\u001b[0m\n\u001b[1;32m   1188\u001b[0m     \u001b[0;32mtry\u001b[0m\u001b[0;34m:\u001b[0m\u001b[0;34m\u001b[0m\u001b[0;34m\u001b[0m\u001b[0m\n\u001b[0;32m-> 1189\u001b[0;31m       \u001b[0;32mreturn\u001b[0m \u001b[0mself\u001b[0m\u001b[0;34m.\u001b[0m\u001b[0m_numpy_internal\u001b[0m\u001b[0;34m(\u001b[0m\u001b[0;34m)\u001b[0m\u001b[0;34m\u001b[0m\u001b[0;34m\u001b[0m\u001b[0m\n\u001b[0m\u001b[1;32m   1190\u001b[0m     \u001b[0;32mexcept\u001b[0m \u001b[0mcore\u001b[0m\u001b[0;34m.\u001b[0m\u001b[0m_NotOkStatusException\u001b[0m \u001b[0;32mas\u001b[0m \u001b[0me\u001b[0m\u001b[0;34m:\u001b[0m  \u001b[0;31m# pylint: disable=protected-access\u001b[0m\u001b[0;34m\u001b[0m\u001b[0;34m\u001b[0m\u001b[0m\n",
            "\u001b[0;31mKeyboardInterrupt\u001b[0m: ",
            "\nDuring handling of the above exception, another exception occurred:\n",
            "\u001b[0;31mKeyboardInterrupt\u001b[0m                         Traceback (most recent call last)",
            "\u001b[0;31mKeyboardInterrupt\u001b[0m: "
          ]
        }
      ]
    },
    {
      "cell_type": "markdown",
      "source": [
        "## FID"
      ],
      "metadata": {
        "id": "jMTi8OaIZ2Xc"
      }
    },
    {
      "cell_type": "code",
      "source": [
        "!pip install pytorch-fid"
      ],
      "metadata": {
        "colab": {
          "base_uri": "https://localhost:8080/"
        },
        "id": "8yBK1xSWZscB",
        "outputId": "3892be38-fbb0-4e0c-d09b-8b8e0914299b"
      },
      "execution_count": null,
      "outputs": [
        {
          "output_type": "stream",
          "name": "stdout",
          "text": [
            "Collecting pytorch-fid\n",
            "  Downloading pytorch-fid-0.2.1.tar.gz (14 kB)\n",
            "Requirement already satisfied: numpy in /usr/local/lib/python3.7/dist-packages (from pytorch-fid) (1.21.5)\n",
            "Requirement already satisfied: pillow in /usr/local/lib/python3.7/dist-packages (from pytorch-fid) (7.1.2)\n",
            "Requirement already satisfied: scipy in /usr/local/lib/python3.7/dist-packages (from pytorch-fid) (1.4.1)\n",
            "Requirement already satisfied: torch>=1.0.1 in /usr/local/lib/python3.7/dist-packages (from pytorch-fid) (1.10.0+cu111)\n",
            "Requirement already satisfied: torchvision>=0.2.2 in /usr/local/lib/python3.7/dist-packages (from pytorch-fid) (0.11.1+cu111)\n",
            "Requirement already satisfied: typing-extensions in /usr/local/lib/python3.7/dist-packages (from torch>=1.0.1->pytorch-fid) (4.1.1)\n",
            "Building wheels for collected packages: pytorch-fid\n",
            "  Building wheel for pytorch-fid (setup.py) ... \u001b[?25l\u001b[?25hdone\n",
            "  Created wheel for pytorch-fid: filename=pytorch_fid-0.2.1-py3-none-any.whl size=14835 sha256=5090abf0d28a2ecc5e60f0bebd08b90fda9e408801d191841ef0be954cba2519\n",
            "  Stored in directory: /root/.cache/pip/wheels/24/ac/03/c5634775c8a64f702343ef5923278f8d3bb8c651debc4a6890\n",
            "Successfully built pytorch-fid\n",
            "Installing collected packages: pytorch-fid\n",
            "Successfully installed pytorch-fid-0.2.1\n"
          ]
        }
      ]
    },
    {
      "cell_type": "code",
      "source": [
        "!python -m pytorch_fid $real_img_path $gen_img_path --device cuda:0"
      ],
      "metadata": {
        "colab": {
          "base_uri": "https://localhost:8080/"
        },
        "id": "0p5-aPZEZwOw",
        "outputId": "da2dcfcc-aa3e-4a47-d3d8-daac0a9eb839"
      },
      "execution_count": null,
      "outputs": [
        {
          "output_type": "stream",
          "name": "stdout",
          "text": [
            "Downloading: \"https://github.com/mseitzer/pytorch-fid/releases/download/fid_weights/pt_inception-2015-12-05-6726825d.pth\" to /root/.cache/torch/hub/checkpoints/pt_inception-2015-12-05-6726825d.pth\n",
            "100% 91.2M/91.2M [00:05<00:00, 17.2MB/s]\n",
            "100% 719/719 [02:53<00:00,  4.14it/s]\n",
            "100% 333/333 [01:12<00:00,  4.60it/s]\n",
            "FID:  51.430461225018604\n"
          ]
        }
      ]
    },
    {
      "cell_type": "markdown",
      "source": [
        "FID:  51.430461225018604"
      ],
      "metadata": {
        "id": "4_SJy8c9ADtp"
      }
    },
    {
      "cell_type": "code",
      "source": [
        ""
      ],
      "metadata": {
        "id": "GEI8C9h-ZwRu"
      },
      "execution_count": null,
      "outputs": []
    },
    {
      "cell_type": "markdown",
      "source": [
        "## Specificity"
      ],
      "metadata": {
        "id": "CAlwv1T1Z3-h"
      }
    },
    {
      "cell_type": "code",
      "source": [
        "def find_closest_img(reference_img, dataset, dist_func=None):\n",
        "    \"\"\"\n",
        "    code below finds closest image from reference_img\n",
        "    takes 2 mins for a single img ...\n",
        "    \"\"\"\n",
        "    closest_dist = 1e9\n",
        "    closest_img = None\n",
        "    for image_batch in dataset.as_numpy_iterator():\n",
        "        \n",
        "        truth = image_batch\n",
        "        distances = [tf.norm(truth[i]-reference_img) for i in range(32)]\n",
        "        i = tf.math.argmin(distances).numpy()\n",
        "        min_dist = distances[i]\n",
        "\n",
        "        if closest_dist > min_dist:\n",
        "            closest_dist = min_dist\n",
        "            closest_img = truth[i]\n",
        "    return closest_img"
      ],
      "metadata": {
        "id": "oKJHxoE6Z5sZ"
      },
      "execution_count": null,
      "outputs": []
    },
    {
      "cell_type": "code",
      "source": [
        "\n",
        "min_dist = []\n",
        "n_samples = 10\n",
        "imgs = model.generate_samples(n_samples)\n",
        "for img in imgs:\n",
        "    closest_img = find_closest_img(img, train)\n",
        "    min_dist.append(tf.norm(img-closest_img))\n",
        "print(np.mean(np.array(min_dist)))"
      ],
      "metadata": {
        "colab": {
          "base_uri": "https://localhost:8080/"
        },
        "id": "LiqXMPgvhdWS",
        "outputId": "a9bb479e-944b-4580-d265-2798949df9f2"
      },
      "execution_count": null,
      "outputs": [
        {
          "output_type": "stream",
          "name": "stdout",
          "text": [
            "5223.487\n"
          ]
        }
      ]
    },
    {
      "cell_type": "markdown",
      "source": [
        "5223.487"
      ],
      "metadata": {
        "id": "RWjXGDsJVzVL"
      }
    },
    {
      "cell_type": "markdown",
      "source": [
        "# Debug"
      ],
      "metadata": {
        "id": "1uCD5-iHhdpj"
      }
    },
    {
      "cell_type": "code",
      "source": [
        "!pip install -Uqq ipdb\n",
        "import ipdb\n"
      ],
      "metadata": {
        "id": "7JJbZw1ghd31"
      },
      "execution_count": null,
      "outputs": []
    },
    {
      "cell_type": "code",
      "source": [
        "%pdb off"
      ],
      "metadata": {
        "colab": {
          "base_uri": "https://localhost:8080/"
        },
        "id": "J3e9TJNOhgar",
        "outputId": "d8764aae-1e0d-4f06-8601-fcf2dff5b89b"
      },
      "execution_count": null,
      "outputs": [
        {
          "output_type": "stream",
          "name": "stdout",
          "text": [
            "Automatic pdb calling has been turned OFF\n"
          ]
        }
      ]
    },
    {
      "cell_type": "code",
      "source": [
        ""
      ],
      "metadata": {
        "id": "8WHoN2O9hi-r"
      },
      "execution_count": null,
      "outputs": []
    }
  ],
  "metadata": {
    "colab": {
      "collapsed_sections": [
        "oCLBll_NyBC1",
        "sPUbJUhByBC4",
        "pOeojm615FW9",
        "o1fAbtpW5PID",
        "JYsq8qxt7y0h"
      ],
      "name": "main",
      "provenance": []
    },
    "kernelspec": {
      "display_name": "Python 3",
      "language": "python",
      "name": "python3"
    },
    "language_info": {
      "codemirror_mode": {
        "name": "ipython",
        "version": 3
      },
      "file_extension": ".py",
      "mimetype": "text/x-python",
      "name": "python",
      "nbconvert_exporter": "python",
      "pygments_lexer": "ipython3",
      "version": "3.7.0"
    },
    "accelerator": "GPU"
  },
  "nbformat": 4,
  "nbformat_minor": 0
}