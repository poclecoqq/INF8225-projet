{
  "cells": [
    {
      "cell_type": "markdown",
      "metadata": {
        "id": "MaRrf9VjyBCw"
      },
      "source": [
        "# DCGAN to generate face images\n",
        "\n",
        "Adapted from [this tutorial](https://keras.io/examples/generative/dcgan_overriding_train_step/)"
      ]
    },
    {
      "cell_type": "markdown",
      "metadata": {
        "id": "oCLBll_NyBC1"
      },
      "source": [
        "## Setup"
      ]
    },
    {
      "cell_type": "code",
      "execution_count": 27,
      "metadata": {
        "id": "LCwF4rBVyBC2"
      },
      "outputs": [],
      "source": [
        "import tensorflow as tf\n",
        "from tensorflow import keras\n",
        "from tensorflow.keras import layers\n",
        "import numpy as np\n",
        "import matplotlib.pyplot as plt\n",
        "import os\n",
        "import gdown\n",
        "from zipfile import ZipFile\n",
        "from pathlib import Path\n",
        "import time"
      ]
    },
    {
      "cell_type": "code",
      "source": [
        "import sys\n",
        "def is_in_collab_env():\n",
        "    return 'google.colab' in sys.modules\n",
        "\n",
        "if is_in_collab_env():\n",
        "    from google.colab import drive\n",
        "    drive.mount('/content/drive')\n",
        "    ROOT = Path(\"/content/drive/MyDrive/INF8225/notebooks\")\n",
        "else:\n",
        "    ROOT = Path('..').resolve()"
      ],
      "metadata": {
        "id": "hNPxBlC227lK",
        "colab": {
          "base_uri": "https://localhost:8080/"
        },
        "outputId": "c8257425-d01b-482e-93a4-9016f2f81c91"
      },
      "execution_count": 28,
      "outputs": [
        {
          "output_type": "stream",
          "name": "stdout",
          "text": [
            "Drive already mounted at /content/drive; to attempt to forcibly remount, call drive.mount(\"/content/drive\", force_remount=True).\n"
          ]
        }
      ]
    },
    {
      "cell_type": "code",
      "source": [
        "DATA_PATH = ROOT/\"data\"\n",
        "MODEL_PATH = ROOT/\"models\"\n",
        "\n",
        "DATA_PATH.mkdir(parents=True, exist_ok=True)\n",
        "MODEL_PATH.mkdir(parents=True, exist_ok=True)"
      ],
      "metadata": {
        "id": "cUnqb5rI2-rE"
      },
      "execution_count": 29,
      "outputs": []
    },
    {
      "cell_type": "markdown",
      "metadata": {
        "id": "sPUbJUhByBC4"
      },
      "source": [
        "## Prepare CelebA data\n",
        "\n",
        "We'll use face images from the CelebA dataset, resized to 64x64."
      ]
    },
    {
      "cell_type": "code",
      "execution_count": 30,
      "metadata": {
        "id": "T9VZevZayBC4"
      },
      "outputs": [],
      "source": [
        "os.makedirs(\"celeba_gan\", exist_ok=True)\n",
        "\n",
        "url = \"https://drive.google.com/uc?id=1O7m1010EJjLE5QxLZiM9Fpjs7Oj6e684\"\n",
        "output = \"celeba_gan/data.zip\"\n",
        "gdown.download(url, output, quiet=True)\n",
        "\n",
        "with ZipFile(\"celeba_gan/data.zip\", \"r\") as zipobj:\n",
        "    zipobj.extractall(\"celeba_gan\")"
      ]
    },
    {
      "cell_type": "markdown",
      "metadata": {
        "id": "rwwmdFUEyBC5"
      },
      "source": [
        "Create a dataset from our folder, and rescale the images to the [0-1] range:"
      ]
    },
    {
      "cell_type": "code",
      "execution_count": 31,
      "metadata": {
        "id": "-LIsh-79yBC6",
        "colab": {
          "base_uri": "https://localhost:8080/"
        },
        "outputId": "2a87c4a6-5233-4103-d333-b2cc23081d7c"
      },
      "outputs": [
        {
          "output_type": "stream",
          "name": "stdout",
          "text": [
            "Found 202599 files belonging to 1 classes.\n"
          ]
        }
      ],
      "source": [
        "dataset = keras.preprocessing.image_dataset_from_directory(\n",
        "    \"celeba_gan\", label_mode=None, image_size=(64, 64), batch_size=32\n",
        ")\n",
        "dataset = dataset.map(lambda x: x / 255.0)\n"
      ]
    },
    {
      "cell_type": "markdown",
      "metadata": {
        "id": "i0zHMM3jyBC7"
      },
      "source": [
        "Let's display a sample image:"
      ]
    },
    {
      "cell_type": "code",
      "execution_count": 32,
      "metadata": {
        "id": "9b1RqfjdyBC8",
        "colab": {
          "base_uri": "https://localhost:8080/",
          "height": 248
        },
        "outputId": "0d5efa23-dad6-46b0-c948-bfe01dd65dc5"
      },
      "outputs": [
        {
          "output_type": "display_data",
          "data": {
            "text/plain": [
              "<Figure size 432x288 with 1 Axes>"
            ],
            "image/png": "[encoded data removed]"
          },
          "metadata": {
            "needs_background": "light"
          }
        }
      ],
      "source": [
        "\n",
        "for x in dataset:\n",
        "    plt.axis(\"off\")\n",
        "    plt.imshow((x.numpy() * 255).astype(\"int32\")[0])\n",
        "    break\n"
      ]
    },
    {
      "cell_type": "markdown",
      "metadata": {
        "id": "p1lEcrl0yBC9"
      },
      "source": [
        "## Create the discriminator\n",
        "\n",
        "It maps a 64x64 image to a binary classification score."
      ]
    },
    {
      "cell_type": "code",
      "execution_count": 33,
      "metadata": {
        "id": "DoI5i_GqyBC9",
        "colab": {
          "base_uri": "https://localhost:8080/"
        },
        "outputId": "7e7c5fae-bee9-4c3a-a041-d282b2b1f135"
      },
      "outputs": [
        {
          "output_type": "stream",
          "name": "stdout",
          "text": [
            "Model: \"discriminator\"\n",
            "_________________________________________________________________\n",
            " Layer (type)                Output Shape              Param #   \n",
            "=================================================================\n",
            " conv2d_4 (Conv2D)           (None, 32, 32, 64)        3136      \n",
            "                                                                 \n",
            " leaky_re_lu_6 (LeakyReLU)   (None, 32, 32, 64)        0         \n",
            "                                                                 \n",
            " conv2d_5 (Conv2D)           (None, 16, 16, 128)       131200    \n",
            "                                                                 \n",
            " leaky_re_lu_7 (LeakyReLU)   (None, 16, 16, 128)       0         \n",
            "                                                                 \n",
            " conv2d_6 (Conv2D)           (None, 8, 8, 128)         262272    \n",
            "                                                                 \n",
            " leaky_re_lu_8 (LeakyReLU)   (None, 8, 8, 128)         0         \n",
            "                                                                 \n",
            " flatten_1 (Flatten)         (None, 8192)              0         \n",
            "                                                                 \n",
            " dropout_1 (Dropout)         (None, 8192)              0         \n",
            "                                                                 \n",
            " dense_2 (Dense)             (None, 1)                 8193      \n",
            "                                                                 \n",
            "=================================================================\n",
            "Total params: 404,801\n",
            "Trainable params: 404,801\n",
            "Non-trainable params: 0\n",
            "_________________________________________________________________\n"
          ]
        }
      ],
      "source": [
        "discriminator = keras.Sequential(\n",
        "    [\n",
        "        keras.Input(shape=(64, 64, 3)),\n",
        "        layers.Conv2D(64, kernel_size=4, strides=2, padding=\"same\"),\n",
        "        layers.LeakyReLU(alpha=0.2),\n",
        "        layers.Conv2D(128, kernel_size=4, strides=2, padding=\"same\"),\n",
        "        layers.LeakyReLU(alpha=0.2),\n",
        "        layers.Conv2D(128, kernel_size=4, strides=2, padding=\"same\"),\n",
        "        layers.LeakyReLU(alpha=0.2),\n",
        "        layers.Flatten(),\n",
        "        layers.Dropout(0.2),\n",
        "        layers.Dense(1, activation=\"sigmoid\"),\n",
        "    ],\n",
        "    name=\"discriminator\",\n",
        ")\n",
        "discriminator.summary()"
      ]
    },
    {
      "cell_type": "markdown",
      "metadata": {
        "id": "ES7_eC6iyBC-"
      },
      "source": [
        "## Create the generator\n",
        "\n",
        "It mirrors the discriminator, replacing `Conv2D` layers with `Conv2DTranspose` layers."
      ]
    },
    {
      "cell_type": "code",
      "execution_count": 34,
      "metadata": {
        "id": "RBDiarp7yBC-",
        "colab": {
          "base_uri": "https://localhost:8080/"
        },
        "outputId": "6c7f2967-044e-4535-80af-03746bcecd27"
      },
      "outputs": [
        {
          "output_type": "stream",
          "name": "stdout",
          "text": [
            "Model: \"generator\"\n",
            "_________________________________________________________________\n",
            " Layer (type)                Output Shape              Param #   \n",
            "=================================================================\n",
            " dense_3 (Dense)             (None, 8192)              1056768   \n",
            "                                                                 \n",
            " reshape_1 (Reshape)         (None, 8, 8, 128)         0         \n",
            "                                                                 \n",
            " conv2d_transpose_3 (Conv2DT  (None, 16, 16, 128)      262272    \n",
            " ranspose)                                                       \n",
            "                                                                 \n",
            " leaky_re_lu_9 (LeakyReLU)   (None, 16, 16, 128)       0         \n",
            "                                                                 \n",
            " conv2d_transpose_4 (Conv2DT  (None, 32, 32, 256)      524544    \n",
            " ranspose)                                                       \n",
            "                                                                 \n",
            " leaky_re_lu_10 (LeakyReLU)  (None, 32, 32, 256)       0         \n",
            "                                                                 \n",
            " conv2d_transpose_5 (Conv2DT  (None, 64, 64, 512)      2097664   \n",
            " ranspose)                                                       \n",
            "                                                                 \n",
            " leaky_re_lu_11 (LeakyReLU)  (None, 64, 64, 512)       0         \n",
            "                                                                 \n",
            " conv2d_7 (Conv2D)           (None, 64, 64, 3)         38403     \n",
            "                                                                 \n",
            "=================================================================\n",
            "Total params: 3,979,651\n",
            "Trainable params: 3,979,651\n",
            "Non-trainable params: 0\n",
            "_________________________________________________________________\n"
          ]
        }
      ],
      "source": [
        "latent_dim = 128\n",
        "\n",
        "generator = keras.Sequential(\n",
        "    [\n",
        "        keras.Input(shape=(latent_dim,)),\n",
        "        layers.Dense(8 * 8 * 128),\n",
        "        layers.Reshape((8, 8, 128)),\n",
        "        layers.Conv2DTranspose(128, kernel_size=4, strides=2, padding=\"same\"),\n",
        "        layers.LeakyReLU(alpha=0.2),\n",
        "        layers.Conv2DTranspose(256, kernel_size=4, strides=2, padding=\"same\"),\n",
        "        layers.LeakyReLU(alpha=0.2),\n",
        "        layers.Conv2DTranspose(512, kernel_size=4, strides=2, padding=\"same\"),\n",
        "        layers.LeakyReLU(alpha=0.2),\n",
        "        layers.Conv2D(3, kernel_size=5, padding=\"same\", activation=\"sigmoid\"),\n",
        "    ],\n",
        "    name=\"generator\",\n",
        ")\n",
        "generator.summary()"
      ]
    },
    {
      "cell_type": "markdown",
      "metadata": {
        "id": "XVzXNsaIyBC_"
      },
      "source": [
        "## Override `train_step`"
      ]
    },
    {
      "cell_type": "code",
      "execution_count": 35,
      "metadata": {
        "id": "D0p0yY5NyBC_"
      },
      "outputs": [],
      "source": [
        "\n",
        "class GAN(keras.Model):\n",
        "    def __init__(self, discriminator, generator, latent_dim):\n",
        "        super(GAN, self).__init__()\n",
        "        self.discriminator = discriminator\n",
        "        self.generator = generator\n",
        "        self.latent_dim = latent_dim\n",
        "\n",
        "    def compile(self, d_optimizer, g_optimizer, loss_fn):\n",
        "        super(GAN, self).compile()\n",
        "        self.d_optimizer = d_optimizer\n",
        "        self.g_optimizer = g_optimizer\n",
        "        self.loss_fn = loss_fn\n",
        "        self.d_loss_metric = keras.metrics.Mean(name=\"d_loss\")\n",
        "        self.g_loss_metric = keras.metrics.Mean(name=\"g_loss\")\n",
        "\n",
        "    @property\n",
        "    def metrics(self):\n",
        "        return [self.d_loss_metric, self.g_loss_metric]\n",
        "\n",
        "    def train_step(self, real_images):\n",
        "        # Sample random points in the latent space\n",
        "        batch_size = tf.shape(real_images)[0]\n",
        "        random_latent_vectors = tf.random.normal(shape=(batch_size, self.latent_dim))\n",
        "\n",
        "        # Decode them to fake images\n",
        "        generated_images = self.generator(random_latent_vectors)\n",
        "\n",
        "        # Combine them with real images\n",
        "        combined_images = tf.concat([generated_images, real_images], axis=0)\n",
        "\n",
        "        # Assemble labels discriminating real from fake images\n",
        "        labels = tf.concat(\n",
        "            [tf.ones((batch_size, 1)), tf.zeros((batch_size, 1))], axis=0\n",
        "        )\n",
        "        # Add random noise to the labels - important trick!\n",
        "        labels += 0.05 * tf.random.uniform(tf.shape(labels))\n",
        "\n",
        "        # Train the discriminator\n",
        "        with tf.GradientTape() as tape:\n",
        "            predictions = self.discriminator(combined_images)\n",
        "            d_loss = self.loss_fn(labels, predictions)\n",
        "        grads = tape.gradient(d_loss, self.discriminator.trainable_weights)\n",
        "        self.d_optimizer.apply_gradients(\n",
        "            zip(grads, self.discriminator.trainable_weights)\n",
        "        )\n",
        "\n",
        "        # Sample random points in the latent space\n",
        "        random_latent_vectors = tf.random.normal(shape=(batch_size, self.latent_dim))\n",
        "\n",
        "        # Assemble labels that say \"all real images\"\n",
        "        misleading_labels = tf.zeros((batch_size, 1))\n",
        "\n",
        "        # Train the generator (note that we should *not* update the weights\n",
        "        # of the discriminator)!\n",
        "        with tf.GradientTape() as tape:\n",
        "            predictions = self.discriminator(self.generator(random_latent_vectors))\n",
        "            g_loss = self.loss_fn(misleading_labels, predictions)\n",
        "        grads = tape.gradient(g_loss, self.generator.trainable_weights)\n",
        "        self.g_optimizer.apply_gradients(zip(grads, self.generator.trainable_weights))\n",
        "\n",
        "        # Update metrics\n",
        "        self.d_loss_metric.update_state(d_loss)\n",
        "        self.g_loss_metric.update_state(g_loss)\n",
        "        return {\n",
        "            \"d_loss\": self.d_loss_metric.result(),\n",
        "            \"g_loss\": self.g_loss_metric.result(),\n",
        "        }\n"
      ]
    },
    {
      "cell_type": "markdown",
      "metadata": {
        "id": "_uQVOMmHyBDB"
      },
      "source": [
        "## Create a callback that periodically saves generated images"
      ]
    },
    {
      "cell_type": "code",
      "execution_count": 62,
      "metadata": {
        "id": "ejwQuN9HyBDB"
      },
      "outputs": [],
      "source": [
        "\n",
        "class GANMonitor(keras.callbacks.Callback):\n",
        "    def __init__(self, num_img=3, latent_dim=128):\n",
        "        self.num_img = num_img\n",
        "        self.latent_dim = latent_dim\n",
        "\n",
        "    def on_epoch_end(self, epoch, logs=None):\n",
        "        if (epoch % 10) == 0:\n",
        "            random_latent_vectors = tf.random.normal(shape=(self.num_img, self.latent_dim))\n",
        "            generated_images = self.model.generator(random_latent_vectors)\n",
        "            generated_images *= 255\n",
        "            generated_images.numpy()\n",
        "            \n",
        "            dir_name = f'DCGAN_CelebA-e:{epoch}'\n",
        "            img_path = DATA_PATH/dir_name\n",
        "            img_path.mkdir(parents=True, exist_ok=True)\n",
        "            crnt_timestamp = str(time.time()).split('.')[0]\n",
        "            for i in range(self.num_img):\n",
        "                img = keras.preprocessing.image.array_to_img(generated_images[i])\n",
        "                img.save(img_path/f'generated_img_e:{epoch}_{i}_t:{crnt_timestamp}.png')\n"
      ]
    },
    {
      "cell_type": "markdown",
      "metadata": {
        "id": "AQeOQ2YkyBDC"
      },
      "source": [
        "## Train the end-to-end model"
      ]
    },
    {
      "cell_type": "code",
      "execution_count": 63,
      "metadata": {
        "id": "VlIRBCi3yBDC"
      },
      "outputs": [],
      "source": [
        "epochs = 100  # In practice, use ~100 epochs\n",
        "\n",
        "\n",
        "gan = GAN(discriminator=discriminator, generator=generator, latent_dim=latent_dim)\n",
        "gan.compile(\n",
        "    d_optimizer=keras.optimizers.Adam(learning_rate=0.0001),\n",
        "    g_optimizer=keras.optimizers.Adam(learning_rate=0.0001),\n",
        "    loss_fn=keras.losses.BinaryCrossentropy(),\n",
        ")\n",
        "\n"
      ]
    },
    {
      "cell_type": "code",
      "source": [
        "mcp_save = tf.keras.callbacks.ModelCheckpoint(MODEL_PATH/'DCGAN_CelebA-{epoch:02d}',period=10, save_weights_only=True)\n",
        "gan.fit(\n",
        "    dataset, epochs=epochs, callbacks=[GANMonitor(num_img=10, latent_dim=latent_dim), mcp_save]\n",
        ")"
      ],
      "metadata": {
        "colab": {
          "base_uri": "https://localhost:8080/"
        },
        "id": "z4Op5ie79OU4",
        "outputId": "8e2bb581-702b-4d5a-d146-5e504cafd503"
      },
      "execution_count": null,
      "outputs": [
        {
          "output_type": "stream",
          "name": "stdout",
          "text": [
            "WARNING:tensorflow:`period` argument is deprecated. Please use `save_freq` to specify the frequency in number of batches seen.\n",
            "Epoch 1/100\n",
            "6332/6332 [==============================] - 884s 139ms/step - d_loss: 0.6435 - g_loss: 1.1143\n",
            "Epoch 2/100\n",
            "6332/6332 [==============================] - 884s 140ms/step - d_loss: 0.6474 - g_loss: 1.0648\n",
            "Epoch 3/100\n",
            "6332/6332 [==============================] - 885s 140ms/step - d_loss: 0.6105 - g_loss: 1.2025\n",
            "Epoch 4/100\n",
            "6332/6332 [==============================] - 886s 140ms/step - d_loss: 0.6088 - g_loss: 1.1829\n",
            "Epoch 5/100\n",
            "6332/6332 [==============================] - 885s 140ms/step - d_loss: 0.6435 - g_loss: 1.0386\n",
            "Epoch 6/100\n",
            "6332/6332 [==============================] - 887s 140ms/step - d_loss: 0.6677 - g_loss: 0.9341\n",
            "Epoch 7/100\n",
            "6332/6332 [==============================] - 887s 140ms/step - d_loss: 0.6711 - g_loss: 0.9200\n",
            "Epoch 8/100\n",
            "6332/6332 [==============================] - 887s 140ms/step - d_loss: 0.6722 - g_loss: 0.9144\n",
            "Epoch 9/100\n",
            "6332/6332 [==============================] - 887s 140ms/step - d_loss: 0.6746 - g_loss: 0.9220\n",
            "Epoch 10/100\n",
            "6332/6332 [==============================] - 888s 140ms/step - d_loss: 0.6732 - g_loss: 0.9157\n",
            "Epoch 11/100\n",
            "6332/6332 [==============================] - 888s 140ms/step - d_loss: 0.6629 - g_loss: 0.9334\n",
            "Epoch 12/100\n",
            "6332/6332 [==============================] - 889s 140ms/step - d_loss: 0.6613 - g_loss: 0.9322\n",
            "Epoch 13/100\n",
            "6332/6332 [==============================] - 888s 140ms/step - d_loss: 0.6581 - g_loss: 0.9340\n",
            "Epoch 14/100\n",
            "6332/6332 [==============================] - 890s 140ms/step - d_loss: 0.6472 - g_loss: 0.9648\n",
            "Epoch 15/100\n",
            "6332/6332 [==============================] - 889s 140ms/step - d_loss: 0.6432 - g_loss: 0.9705\n",
            "Epoch 16/100\n",
            "6332/6332 [==============================] - 890s 141ms/step - d_loss: 0.6402 - g_loss: 0.9814\n",
            "Epoch 17/100\n",
            "6332/6332 [==============================] - 889s 140ms/step - d_loss: 0.6562 - g_loss: 0.9585\n",
            "Epoch 18/100\n",
            "6332/6332 [==============================] - 890s 141ms/step - d_loss: 0.6452 - g_loss: 0.9605\n",
            "Epoch 19/100\n",
            "6332/6332 [==============================] - 889s 140ms/step - d_loss: 0.6406 - g_loss: 0.9822\n",
            "Epoch 20/100\n",
            "6332/6332 [==============================] - 890s 140ms/step - d_loss: 0.6398 - g_loss: 0.9663\n",
            "Epoch 21/100\n",
            "6332/6332 [==============================] - 889s 140ms/step - d_loss: 0.6472 - g_loss: 0.9613\n",
            "Epoch 22/100\n",
            "6332/6332 [==============================] - 889s 140ms/step - d_loss: 0.6482 - g_loss: 0.9607\n",
            "Epoch 23/100\n",
            "6332/6332 [==============================] - 890s 141ms/step - d_loss: 0.6452 - g_loss: 0.9492\n",
            "Epoch 24/100\n",
            "6332/6332 [==============================] - 889s 140ms/step - d_loss: 0.6431 - g_loss: 0.9597\n",
            "Epoch 25/100\n",
            "6332/6332 [==============================] - 890s 140ms/step - d_loss: 0.6477 - g_loss: 0.9528\n",
            "Epoch 26/100\n",
            "6332/6332 [==============================] - 889s 140ms/step - d_loss: 0.6445 - g_loss: 0.9555\n",
            "Epoch 27/100\n",
            "6332/6332 [==============================] - 890s 140ms/step - d_loss: 0.6429 - g_loss: 0.9554\n",
            "Epoch 28/100\n",
            "6332/6332 [==============================] - 890s 141ms/step - d_loss: 0.6472 - g_loss: 0.9538\n",
            "Epoch 29/100\n",
            "6332/6332 [==============================] - 887s 140ms/step - d_loss: 0.6374 - g_loss: 0.9584\n",
            "Epoch 30/100\n",
            "6332/6332 [==============================] - 889s 140ms/step - d_loss: 0.6391 - g_loss: 0.9557\n",
            "Epoch 31/100\n",
            "6332/6332 [==============================] - 887s 140ms/step - d_loss: 0.6341 - g_loss: 0.9709\n",
            "Epoch 32/100\n",
            "6332/6332 [==============================] - 889s 140ms/step - d_loss: 0.6340 - g_loss: 0.9627\n",
            "Epoch 33/100\n",
            "6332/6332 [==============================] - 887s 140ms/step - d_loss: 0.6312 - g_loss: 0.9782\n",
            "Epoch 34/100\n",
            "6332/6332 [==============================] - 888s 140ms/step - d_loss: 0.6309 - g_loss: 0.9764\n",
            "Epoch 35/100\n",
            "6332/6332 [==============================] - 888s 140ms/step - d_loss: 0.6264 - g_loss: 0.9892\n",
            "Epoch 36/100\n",
            "6332/6332 [==============================] - 888s 140ms/step - d_loss: 0.6254 - g_loss: 0.9825\n",
            "Epoch 37/100\n",
            "6332/6332 [==============================] - 890s 141ms/step - d_loss: 0.6189 - g_loss: 0.9975\n",
            "Epoch 38/100\n",
            "6332/6332 [==============================] - 891s 141ms/step - d_loss: 0.6166 - g_loss: 1.0074\n",
            "Epoch 39/100\n",
            "6332/6332 [==============================] - 891s 141ms/step - d_loss: 0.6150 - g_loss: 1.0141\n",
            "Epoch 40/100\n",
            "6332/6332 [==============================] - 891s 141ms/step - d_loss: 0.6116 - g_loss: 1.0259\n",
            "Epoch 41/100\n",
            "6332/6332 [==============================] - 891s 141ms/step - d_loss: 0.6074 - g_loss: 1.0292\n",
            "Epoch 42/100\n",
            "6332/6332 [==============================] - 891s 141ms/step - d_loss: 0.6052 - g_loss: 1.0330\n",
            "Epoch 43/100\n",
            "6332/6332 [==============================] - 891s 141ms/step - d_loss: 0.6019 - g_loss: 1.0466\n",
            "Epoch 44/100\n",
            "6332/6332 [==============================] - 891s 141ms/step - d_loss: 0.6021 - g_loss: 1.0612\n",
            "Epoch 45/100\n",
            "6332/6332 [==============================] - 891s 141ms/step - d_loss: 0.5993 - g_loss: 1.0629\n",
            "Epoch 46/100\n",
            "6332/6332 [==============================] - 893s 141ms/step - d_loss: 0.5971 - g_loss: 1.0611\n",
            "Epoch 47/100\n",
            "6332/6332 [==============================] - 892s 141ms/step - d_loss: 0.5958 - g_loss: 1.0601\n",
            "Epoch 48/100\n",
            "6332/6332 [==============================] - 887s 140ms/step - d_loss: 0.5953 - g_loss: 1.0761\n",
            "Epoch 49/100\n",
            "6332/6332 [==============================] - 886s 140ms/step - d_loss: 0.5959 - g_loss: 1.0733\n",
            "Epoch 50/100\n",
            "6332/6332 [==============================] - 888s 140ms/step - d_loss: 0.5936 - g_loss: 1.0726\n",
            "Epoch 51/100\n",
            "6332/6332 [==============================] - 887s 140ms/step - d_loss: 0.5944 - g_loss: 1.0708\n",
            "Epoch 52/100\n",
            "6332/6332 [==============================] - 887s 140ms/step - d_loss: 0.5929 - g_loss: 1.0846\n",
            "Epoch 53/100\n",
            "6332/6332 [==============================] - 890s 140ms/step - d_loss: 0.5898 - g_loss: 1.0833\n",
            "Epoch 54/100\n",
            "6332/6332 [==============================] - 890s 141ms/step - d_loss: 0.5883 - g_loss: 1.0922\n",
            "Epoch 55/100\n",
            "6332/6332 [==============================] - 891s 141ms/step - d_loss: 0.5847 - g_loss: 1.1074\n",
            "Epoch 56/100\n",
            "6332/6332 [==============================] - 891s 141ms/step - d_loss: 0.5839 - g_loss: 1.0998\n",
            "Epoch 57/100\n",
            "5755/6332 [==========================>...] - ETA: 1:21 - d_loss: 0.5818 - g_loss: 1.1081"
          ]
        }
      ]
    },
    {
      "cell_type": "code",
      "source": [
        "gan.save_weights(MODEL_PATH/'my_model')\n",
        "# sorted(vars(gan).keys())"
      ],
      "metadata": {
        "id": "xU4cbip89VHf"
      },
      "execution_count": 48,
      "outputs": []
    },
    {
      "cell_type": "code",
      "source": [
        "gan = GAN(discriminator=discriminator, generator=generator, latent_dim=latent_dim)\n",
        "gan.load_weights(MODEL_PATH/'my_model') \n"
      ],
      "metadata": {
        "colab": {
          "base_uri": "https://localhost:8080/"
        },
        "id": "6T_F2v4gkW-Z",
        "outputId": "d1376504-cc13-451d-b421-a112d5d0686d"
      },
      "execution_count": 49,
      "outputs": [
        {
          "output_type": "execute_result",
          "data": {
            "text/plain": [
              "<tensorflow.python.training.tracking.util.CheckpointLoadStatus at 0x7f2ea0135950>"
            ]
          },
          "metadata": {},
          "execution_count": 49
        }
      ]
    },
    {
      "cell_type": "markdown",
      "metadata": {
        "id": "z67zpcrgyBDC"
      },
      "source": [
        "Some of the last generated images around epoch 30\n",
        "(results keep improving after that):\n",
        "\n",
        "![results](https://i.imgur.com/h5MtQZ7l.png)"
      ]
    },
    {
      "cell_type": "code",
      "source": [
        "from datetime import datetime"
      ],
      "metadata": {
        "id": "WEvWG35_ChwV"
      },
      "execution_count": 53,
      "outputs": []
    },
    {
      "cell_type": "code",
      "source": [
        "\n",
        "str(time.time()).split('.')[0]"
      ],
      "metadata": {
        "colab": {
          "base_uri": "https://localhost:8080/",
          "height": 35
        },
        "id": "O1eXDdbcJq0h",
        "outputId": "86054c59-b2f2-419b-de95-7e7220494c92"
      },
      "execution_count": 59,
      "outputs": [
        {
          "output_type": "execute_result",
          "data": {
            "text/plain": [
              "'1649974683'"
            ],
            "application/vnd.google.colaboratory.intrinsic+json": {
              "type": "string"
            }
          },
          "metadata": {},
          "execution_count": 59
        }
      ]
    },
    {
      "cell_type": "code",
      "source": [
        ""
      ],
      "metadata": {
        "id": "1hiO3kYLJvoh"
      },
      "execution_count": null,
      "outputs": []
    }
  ],
  "metadata": {
    "colab": {
      "collapsed_sections": [],
      "name": "DCGAN_CelebA",
      "provenance": [],
      "toc_visible": true
    },
    "kernelspec": {
      "display_name": "Python 3",
      "language": "python",
      "name": "python3"
    },
    "language_info": {
      "codemirror_mode": {
        "name": "ipython",
        "version": 3
      },
      "file_extension": ".py",
      "mimetype": "text/x-python",
      "name": "python",
      "nbconvert_exporter": "python",
      "pygments_lexer": "ipython3",
      "version": "3.7.0"
    },
    "accelerator": "GPU"
  },
  "nbformat": 4,
  "nbformat_minor": 0
}